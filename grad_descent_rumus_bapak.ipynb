{
 "cells": [
  {
   "cell_type": "code",
   "execution_count": 1,
   "id": "a993340d",
   "metadata": {},
   "outputs": [],
   "source": [
    "import numpy as np\n",
    "import pandas as pd\n",
    "import random"
   ]
  },
  {
   "cell_type": "code",
   "execution_count": 10,
   "id": "73debdae",
   "metadata": {},
   "outputs": [],
   "source": [
    "# input\n",
    "X = np.array([[0, 0, 1],\n",
    "              [1, 1, 1],\n",
    "              [0, 1, 1],\n",
    "              [0, 1, 1]])\n",
    "\n",
    "# output\n",
    "y = np.array([[0, 1, 1, 0]]).T\n",
    "\n",
    "# tebakan awal\n",
    "np.random.seed(2)\n",
    "w = np.random.rand(3,1)\n",
    "\n",
    "# z\n",
    "z = np.matmul(X,w)\n",
    "\n",
    "# error\n",
    "sigm = lambda z: 1/(1 + np.exp(-z))\n",
    "y_hat = sigm(z)\n",
    "e = y-y_hat\n",
    "\n",
    "# cost function\n",
    "C = np.dot(e.T, e)/2"
   ]
  },
  {
   "cell_type": "code",
   "execution_count": 34,
   "id": "95d470a6",
   "metadata": {},
   "outputs": [
    {
     "name": "stdout",
     "output_type": "stream",
     "text": [
      "Tebakan:\n",
      "[[-0.1280102 ]\n",
      " [-0.94814754]\n",
      " [ 0.09932496]]\n",
      "\n",
      "Error setelah 0 iterasi: 0.6679236420735375\n",
      "Error setelah 1000 iterasi: 0.0013824046830473802\n",
      "Error setelah 2000 iterasi: 0.0006712324543541441\n",
      "Error setelah 3000 iterasi: 0.00044161913346280534\n",
      "Error setelah 4000 iterasi: 0.0003286002768115366\n",
      "Error setelah 5000 iterasi: 0.0002614573331093414\n",
      "Error setelah 6000 iterasi: 0.0002170079708265536\n",
      "Error setelah 7000 iterasi: 0.0001854263726037091\n",
      "Error setelah 8000 iterasi: 0.00016183940067350557\n",
      "Error setelah 9000 iterasi: 0.0001435568212486041\n",
      "Error setelah 9999 iterasi: 0.00012898583803967262\n"
     ]
    }
   ],
   "source": [
    "# input\n",
    "X = np.array([[0, 0, 1],\n",
    "              [1, 1, 1],\n",
    "              [1, 0, 1],\n",
    "              [0, 0, 1]])\n",
    "\n",
    "# output\n",
    "y = np.array([[0, 1, 1, 0]]).T\n",
    "\n",
    "np.random.seed(2)\n",
    "w = 2 * np.random.rand(3,1) - 1\n",
    "print(f\"Tebakan:\\n{w}\\n\")\n",
    "# tabel = [w]\n",
    "\n",
    "k = 10000\n",
    "alpha = 1\n",
    "for i in range(k):\n",
    "    z = np.dot(X,w)\n",
    "    y_hat = sigm(z)\n",
    "    e = y - y_hat\n",
    "    C = np.dot(e.T, e)/2\n",
    "    if i % 1000 == 0 or i == k - 1:\n",
    "        print(f\"Error setelah {i} iterasi: {C[0,0]}\")\n",
    "    \n",
    "    w += alpha * np.dot(X.T, e * y_hat * (1 - y_hat))\n",
    "#     tabel.append(w)"
   ]
  },
  {
   "cell_type": "code",
   "execution_count": 30,
   "id": "9333c347",
   "metadata": {},
   "outputs": [
    {
     "name": "stdout",
     "output_type": "stream",
     "text": [
      "[[ 9.67282529]\n",
      " [-0.20892653]\n",
      " [-4.62890667]]\n"
     ]
    }
   ],
   "source": [
    "print(w)"
   ]
  },
  {
   "cell_type": "code",
   "execution_count": null,
   "id": "a44cbb83",
   "metadata": {},
   "outputs": [],
   "source": []
  }
 ],
 "metadata": {
  "kernelspec": {
   "display_name": "Python 3 (ipykernel)",
   "language": "python",
   "name": "python3"
  },
  "language_info": {
   "codemirror_mode": {
    "name": "ipython",
    "version": 3
   },
   "file_extension": ".py",
   "mimetype": "text/x-python",
   "name": "python",
   "nbconvert_exporter": "python",
   "pygments_lexer": "ipython3",
   "version": "3.8.8"
  }
 },
 "nbformat": 4,
 "nbformat_minor": 5
}

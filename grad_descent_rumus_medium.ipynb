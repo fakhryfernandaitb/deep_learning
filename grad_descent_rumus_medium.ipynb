{
 "cells": [
  {
   "cell_type": "markdown",
   "id": "81a87366",
   "metadata": {},
   "source": [
    "## Copas "
   ]
  },
  {
   "cell_type": "code",
   "execution_count": 156,
   "id": "2e1da9e5",
   "metadata": {},
   "outputs": [
    {
     "name": "stdout",
     "output_type": "stream",
     "text": [
      "Random starting synaptic weights: \n",
      "[[-0.1280102 ]\n",
      " [-0.94814754]\n",
      " [ 0.09932496]]\n",
      "New synaptic weights after training: \n",
      "[[ 9.67282529]\n",
      " [-0.20892653]\n",
      " [-4.62890667]]\n",
      "Considering new situation [1, 0, 0] -> ?: \n",
      "[0.99993703]\n"
     ]
    }
   ],
   "source": [
    "from numpy import exp, array, random, dot\n",
    "\n",
    "class NeuralNetwork():\n",
    "    def __init__(self):\n",
    "        # Seed the random number generator, so it generates the same numbers\n",
    "        # every time the program runs.\n",
    "        random.seed(2)\n",
    "\n",
    "        # We model a single neuron, with 3 input connections and 1 output connection.\n",
    "        # We assign random weights to a 3 x 1 matrix, with values in the range -1 to 1\n",
    "        # and mean 0.\n",
    "        self.synaptic_weights = 2 * random.random((3, 1)) - 1\n",
    "\n",
    "    # The Sigmoid function, which describes an S shaped curve.\n",
    "    # We pass the weighted sum of the inputs through this function to\n",
    "    # normalise them between 0 and 1.\n",
    "    def __sigmoid(self, x):\n",
    "        return 1 / (1 + exp(-x))\n",
    "\n",
    "    # The derivative of the Sigmoid function.\n",
    "    # This is the gradient of the Sigmoid curve.\n",
    "    # It indicates how confident we are about the existing weight.\n",
    "    def __sigmoid_derivative(self, x):\n",
    "        return x * (1 - x)\n",
    "    \n",
    "    # The neural network thinks.\n",
    "    def think(self, inputs):\n",
    "        # Pass inputs through our neural network (our single neuron).\n",
    "        return self.__sigmoid(dot(inputs, self.synaptic_weights))\n",
    "\n",
    "    # We train the neural network through a process of trial and error.\n",
    "    # Adjusting the synaptic weights each time.\n",
    "    def train(self, training_set_inputs, training_set_outputs, number_of_training_iterations):\n",
    "        for iteration in range(number_of_training_iterations):\n",
    "            # Pass the training set through our neural network (a single neuron).\n",
    "            output = self.think(training_set_inputs)\n",
    "\n",
    "            # Calculate the error (The difference between the desired output\n",
    "            # and the predicted output).\n",
    "            error = training_set_outputs - output\n",
    "\n",
    "            # Multiply the error by the input and again by the gradient of the Sigmoid curve.\n",
    "            # This means less confident weights are adjusted more.\n",
    "            # This means inputs, which are zero, do not cause changes to the weights.\n",
    "            adjustment = dot(training_set_inputs.T, error * self.__sigmoid_derivative(output))\n",
    "            \n",
    "            # (3x4) dot (4x1) x (4x1)\n",
    "\n",
    "            # Adjust the weights.\n",
    "            self.synaptic_weights += adjustment\n",
    "\n",
    "\n",
    "if __name__ == \"__main__\":\n",
    "\n",
    "    #Intialise a single neuron neural network.\n",
    "    neural_network = NeuralNetwork()\n",
    "\n",
    "    print(\"Random starting synaptic weights: \")\n",
    "    print(neural_network.synaptic_weights)\n",
    "\n",
    "    # The training set. We have 4 examples, each consisting of 3 input values\n",
    "    # and 1 output value.\n",
    "    training_set_inputs = array([[0, 0, 1], [1, 1, 1], [1, 0, 1], [0, 1, 1]])\n",
    "    training_set_outputs = array([[0, 1, 1, 0]]).T\n",
    "\n",
    "    # Train the neural network using a training set.\n",
    "    # Do it 10,000 times and make small adjustments each time.\n",
    "    neural_network.train(training_set_inputs, training_set_outputs, 10000)\n",
    "\n",
    "    print(\"New synaptic weights after training: \")\n",
    "    print(neural_network.synaptic_weights)\n",
    "\n",
    "    # Test the neural network with a new situation.\n",
    "    print(\"Considering new situation [1, 0, 0] -> ?: \")\n",
    "    print(neural_network.think(array([1, 0, 0])))"
   ]
  },
  {
   "cell_type": "markdown",
   "id": "0d0e6c14",
   "metadata": {},
   "source": [
    "## Fakhry"
   ]
  },
  {
   "cell_type": "code",
   "execution_count": 208,
   "id": "a83c3409",
   "metadata": {},
   "outputs": [],
   "source": [
    "import numpy as np\n",
    "np.random.seed(2)\n",
    "\n",
    "# input\n",
    "X = np.array([[0, 0, 1],\n",
    "              [1, 1, 1],\n",
    "              [1, 0, 1],\n",
    "              [0, 1, 1]])\n",
    "\n",
    "# output\n",
    "y = np.array([[0, 1, 1, 0]]).T\n",
    "\n",
    "# weight\n",
    "w = 2 * np.random.random((3,1)) - 1 # nilainya dalam interval [-1,1)\n",
    "\n",
    "# sigmoid\n",
    "sigmoid = lambda x: 1 / (1 + np.exp(-x))\n",
    "sigmoid_derivative = lambda x: x * (1 - x)\n",
    "\n",
    "# train\n",
    "def train(X,y,w,k):\n",
    "    # k adalah banyaknya iterasi\n",
    "    w_baru = w.copy()\n",
    "    for i in range(k):\n",
    "        y_hat = sigmoid(np.dot(X,w_baru))\n",
    "        e = y - y_hat\n",
    "        alpha = np.dot(X.T, e * sigmoid_derivative(y_hat))\n",
    "        \n",
    "        w_baru += alpha\n",
    "        \n",
    "    return w_baru\n",
    "\n",
    "def error(w):\n",
    "    y_hat = sigmoid(np.dot(X,w))\n",
    "    e = y - y_hat\n",
    "    return np.dot(e.T,e)/2"
   ]
  },
  {
   "cell_type": "markdown",
   "id": "57d76085",
   "metadata": {},
   "source": [
    "### Output"
   ]
  },
  {
   "cell_type": "code",
   "execution_count": 211,
   "id": "51f1aaf5",
   "metadata": {},
   "outputs": [
    {
     "name": "stdout",
     "output_type": "stream",
     "text": [
      "tebakan:\n",
      "[[-0.1280102 ]\n",
      " [-0.94814754]\n",
      " [ 0.09932496]]\n",
      "setelah training:\n",
      "[[ 9.67282529]\n",
      " [-0.20892653]\n",
      " [-4.62890667]]\n",
      "error: 0.00012927385419211448\n",
      "\n",
      "hasil: 0.999937032274439\n"
     ]
    }
   ],
   "source": [
    "print(f\"tebakan:\\n{w}\")\n",
    "w_baru = train(X,y,w,10000)\n",
    "print(f\"setelah training:\\n{w_baru}\")\n",
    "print(f\"error: {error(w_baru)[0,0]}\")\n",
    "\n",
    "print()\n",
    "data_baru = np.array([[1, 0, 0]])\n",
    "hasil = sigmoid(np.dot(data_baru,w_baru))[0,0]\n",
    "print(f\"hasil: {hasil}\")"
   ]
  },
  {
   "cell_type": "markdown",
   "id": "145459d4",
   "metadata": {},
   "source": [
    "### Menggunakan OOP"
   ]
  },
  {
   "cell_type": "code",
   "execution_count": 213,
   "id": "6ed4d336",
   "metadata": {},
   "outputs": [],
   "source": [
    "class Mahasiswa:\n",
    "    def __init__(self, Nama, NIM, Jurusan):\n",
    "        self.nama = Nama\n",
    "        self.nim = NIM\n",
    "        self.jurusan = Jurusan"
   ]
  },
  {
   "cell_type": "code",
   "execution_count": 214,
   "id": "799afcc5",
   "metadata": {},
   "outputs": [],
   "source": [
    "M1 = Mahasiswa('Bagas', '10118090', 'Matematika')"
   ]
  },
  {
   "cell_type": "code",
   "execution_count": 215,
   "id": "8680122d",
   "metadata": {},
   "outputs": [
    {
     "data": {
      "text/plain": [
       "'Bagas'"
      ]
     },
     "execution_count": 215,
     "metadata": {},
     "output_type": "execute_result"
    }
   ],
   "source": [
    "M1.nama"
   ]
  },
  {
   "cell_type": "code",
   "execution_count": null,
   "id": "96782c63",
   "metadata": {},
   "outputs": [],
   "source": []
  }
 ],
 "metadata": {
  "kernelspec": {
   "display_name": "Python 3 (ipykernel)",
   "language": "python",
   "name": "python3"
  },
  "language_info": {
   "codemirror_mode": {
    "name": "ipython",
    "version": 3
   },
   "file_extension": ".py",
   "mimetype": "text/x-python",
   "name": "python",
   "nbconvert_exporter": "python",
   "pygments_lexer": "ipython3",
   "version": "3.8.8"
  }
 },
 "nbformat": 4,
 "nbformat_minor": 5
}
